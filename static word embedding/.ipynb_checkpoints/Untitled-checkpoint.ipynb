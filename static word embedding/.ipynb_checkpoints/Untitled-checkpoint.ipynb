{
 "cells": [
  {
   "cell_type": "markdown",
   "metadata": {},
   "source": [
    "## an example with word2vec based on gensim\n",
    "This notebook introduces the example from the gensim word2vec source code."
   ]
  },
  {
   "cell_type": "markdown",
   "metadata": {},
   "source": [
    "### Usage\n",
    "输入: 句子分词的结果\n",
    "\n",
    "输出: 对应每个词的向量表示"
   ]
  },
  {
   "cell_type": "code",
   "execution_count": null,
   "metadata": {},
   "outputs": [],
   "source": [
    "from gensim.models import Word2Vec\n",
    "\n",
    "# dataset\n",
    "common_texts = [\n",
    "    ['human', 'interface', 'computer'],\n",
    "    ['survey', 'user', 'computer', 'system', 'response', 'time'],\n",
    "    ['eps', 'user', 'interface', 'system'],\n",
    "    ['system', 'human', 'system', 'eps'],\n",
    "    ['user', 'response', 'time'],\n",
    "    ['trees'],\n",
    "    ['graph', 'trees'],\n",
    "    ['graph', 'minors', 'trees'],\n",
    "    ['graph', 'minors', 'survey']\n",
    "]\n",
    "\n",
    "# construct model\n",
    "model = Word2Vec(sentences=common_texts, vector_size=100, window=5, min_count=1, workers=4)\n",
    "\n",
    "# obtain word vector example\n",
    "vector = model.wv['computer']  # get numpy vector of a word\n",
    "sims = model.wv.most_similar('computer', topn=10)  # get other similar words\n",
    "\n",
    "print(\"[computer] vector: \", vector)\n",
    "print(\"similar words: \", sims)"
   ]
  },
  {
   "cell_type": "code",
   "execution_count": null,
   "metadata": {},
   "outputs": [],
   "source": []
  }
 ],
 "metadata": {
  "kernelspec": {
   "display_name": "stanfordcorenlp",
   "language": "python",
   "name": "stanfordcorenlp"
  }
 },
 "nbformat": 4,
 "nbformat_minor": 4
}
