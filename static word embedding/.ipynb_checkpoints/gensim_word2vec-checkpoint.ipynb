{
 "cells": [
  {
   "cell_type": "markdown",
   "metadata": {},
   "source": [
    "## an example with word2vec based on gensim\n",
    "This notebook introduces the example from the gensim word2vec source code."
   ]
  },
  {
   "cell_type": "markdown",
   "metadata": {},
   "source": [
    "### Usage\n",
    "输入: 句子分词的结果\n",
    "\n",
    "输出: 对应每个词的向量表示"
   ]
  },
  {
   "cell_type": "code",
   "execution_count": null,
   "metadata": {},
   "outputs": [],
   "source": [
    "from gensim.models import Word2Vec\n",
    "\n",
    "# dataset\n",
    "common_texts = [\n",
    "    ['human', 'interface', 'computer'],\n",
    "    ['survey', 'user', 'computer', 'system', 'response', 'time'],\n",
    "    ['eps', 'user', 'interface', 'system'],\n",
    "    ['system', 'human', 'system', 'eps'],\n",
    "    ['user', 'response', 'time'],\n",
    "    ['trees'],\n",
    "    ['graph', 'trees'],\n",
    "    ['graph', 'minors', 'trees'],\n",
    "    ['graph', 'minors', 'survey']\n",
    "]\n",
    "\n",
    "# construct model\n",
    "model = Word2Vec(sentences=common_texts, vector_size=100, window=5, min_count=1, workers=4)\n",
    "\n",
    "# obtain word vector example\n",
    "vector = model.wv['computer']  # get numpy vector of a word\n",
    "sims = model.wv.most_similar('computer', topn=10)  # get other similar words\n",
    "\n",
    "print(\"[computer] vector: \", vector)\n",
    "print(\"similar words: \", sims)"
   ]
  },
  {
   "cell_type": "markdown",
   "metadata": {},
   "source": [
    "### Paramenters\n",
    "\n",
    "Word2Vec类初始化函数\n",
    "\n",
    "def __init__(\n",
    "        self, sentences=None, corpus_file=None, vector_size=100, alpha=0.025, window=5, min_count=5,\n",
    "        max_vocab_size=None, sample=1e-3, seed=1, workers=3, min_alpha=0.0001,\n",
    "        sg=0, hs=0, negative=5, ns_exponent=0.75, cbow_mean=1, hashfxn=hash, epochs=5, null_word=0,\n",
    "        trim_rule=None, sorted_vocab=1, batch_words=MAX_WORDS_IN_BATCH, compute_loss=False, callbacks=(),\n",
    "        comment=None, max_final_vocab=None,\n",
    "    )\n",
    "\n",
    "- sentences: 待输入分词结果\n",
    "- corpus_file: 语料库文件路径, 格式要求详见 class:`~gensim.models.word2vec.LineSentence`\n",
    "- vector_size: word vector的维度\n",
    "- alpha: 学习率初始化\n",
    "- window: 当前词与待预测词之间的最大距离\n",
    "- min_count: 忽略频率小于此值的单词\n",
    "- sg: (可选, 0或1) 0表示CBOW，1表示skip-gram\n",
    "- hs: (可选, 0或1) 1表示模型训练时使用分层softmax, 0表示(且negative参数不为0),表示使用negative sampling\n",
    "- negative: 负样本数量(noise word)\n"
   ]
  },
  {
   "cell_type": "code",
   "execution_count": null,
   "metadata": {},
   "outputs": [],
   "source": []
  }
 ],
 "metadata": {
  "kernelspec": {
   "display_name": "stanfordcorenlp",
   "language": "python",
   "name": "stanfordcorenlp"
  }
 },
 "nbformat": 4,
 "nbformat_minor": 4
}
